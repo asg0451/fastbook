{
 "cells": [
  {
   "cell_type": "code",
   "execution_count": 1,
   "id": "d91ded2f",
   "metadata": {},
   "outputs": [],
   "source": [
    "from fastbook import *\n",
    "from fastai.vision.all import *\n",
    "from fastai.callback.fp16 import *\n",
    "path = untar_data(URLs.PETS)\n",
    "Path.BASE_PATH = path\n"
   ]
  },
  {
   "cell_type": "code",
   "execution_count": 2,
   "id": "b9f5b705",
   "metadata": {},
   "outputs": [
    {
     "name": "stderr",
     "output_type": "stream",
     "text": [
      "/home/miles/anaconda3/envs/fastai/lib/python3.8/site-packages/torch/_tensor.py:1051: UserWarning: torch.solve is deprecated in favor of torch.linalg.solveand will be removed in a future PyTorch release.\n",
      "torch.linalg.solve has its arguments reversed and does not return the LU factorization.\n",
      "To get the LU factorization see torch.lu, which can be used with torch.lu_solve or torch.lu_unpack.\n",
      "X = torch.solve(B, A).solution\n",
      "should be replaced with\n",
      "X = torch.linalg.solve(A, B) (Triggered internally at  ../aten/src/ATen/native/BatchLinearAlgebra.cpp:766.)\n",
      "  ret = func(*args, **kwargs)\n"
     ]
    }
   ],
   "source": [
    "pets = DataBlock(blocks = (ImageBlock, CategoryBlock),\n",
    "                 get_items=get_image_files, \n",
    "                 splitter=RandomSplitter(seed=42),\n",
    "                 get_y=using_attr(RegexLabeller(r'(.+)_\\d+.jpg$'), 'name'),\n",
    "                 item_tfms=Resize(460),\n",
    "                 batch_tfms=aug_transforms(size=224, min_scale=0.75))\n",
    "dls = pets.dataloaders(path/\"images\")"
   ]
  },
  {
   "cell_type": "code",
   "execution_count": 29,
   "id": "9a122c70",
   "metadata": {},
   "outputs": [],
   "source": [
    "learn = cnn_learner(dls, resnet34, metrics=error_rate) # .to_fp16() # half-floats. this would make it faster but fail to pickle for some reason.."
   ]
  },
  {
   "cell_type": "code",
   "execution_count": 30,
   "id": "2c1e57f7",
   "metadata": {},
   "outputs": [
    {
     "data": {
      "text/html": [
       "<table border=\"1\" class=\"dataframe\">\n",
       "  <thead>\n",
       "    <tr style=\"text-align: left;\">\n",
       "      <th>epoch</th>\n",
       "      <th>train_loss</th>\n",
       "      <th>valid_loss</th>\n",
       "      <th>error_rate</th>\n",
       "      <th>time</th>\n",
       "    </tr>\n",
       "  </thead>\n",
       "  <tbody>\n",
       "    <tr>\n",
       "      <td>0</td>\n",
       "      <td>2.623831</td>\n",
       "      <td>0.559401</td>\n",
       "      <td>0.177943</td>\n",
       "      <td>00:34</td>\n",
       "    </tr>\n",
       "    <tr>\n",
       "      <td>1</td>\n",
       "      <td>0.955349</td>\n",
       "      <td>0.283005</td>\n",
       "      <td>0.096752</td>\n",
       "      <td>00:34</td>\n",
       "    </tr>\n",
       "    <tr>\n",
       "      <td>2</td>\n",
       "      <td>0.530305</td>\n",
       "      <td>0.243878</td>\n",
       "      <td>0.082544</td>\n",
       "      <td>00:34</td>\n",
       "    </tr>\n",
       "  </tbody>\n",
       "</table>"
      ],
      "text/plain": [
       "<IPython.core.display.HTML object>"
      ]
     },
     "metadata": {},
     "output_type": "display_data"
    },
    {
     "data": {
      "text/html": [
       "<table border=\"1\" class=\"dataframe\">\n",
       "  <thead>\n",
       "    <tr style=\"text-align: left;\">\n",
       "      <th>epoch</th>\n",
       "      <th>train_loss</th>\n",
       "      <th>valid_loss</th>\n",
       "      <th>error_rate</th>\n",
       "      <th>time</th>\n",
       "    </tr>\n",
       "  </thead>\n",
       "  <tbody>\n",
       "    <tr>\n",
       "      <td>0</td>\n",
       "      <td>0.345994</td>\n",
       "      <td>0.238715</td>\n",
       "      <td>0.072395</td>\n",
       "      <td>00:43</td>\n",
       "    </tr>\n",
       "    <tr>\n",
       "      <td>1</td>\n",
       "      <td>0.338326</td>\n",
       "      <td>0.346700</td>\n",
       "      <td>0.114344</td>\n",
       "      <td>00:43</td>\n",
       "    </tr>\n",
       "    <tr>\n",
       "      <td>2</td>\n",
       "      <td>0.269034</td>\n",
       "      <td>0.253178</td>\n",
       "      <td>0.075101</td>\n",
       "      <td>00:43</td>\n",
       "    </tr>\n",
       "    <tr>\n",
       "      <td>3</td>\n",
       "      <td>0.189486</td>\n",
       "      <td>0.219765</td>\n",
       "      <td>0.067659</td>\n",
       "      <td>00:44</td>\n",
       "    </tr>\n",
       "    <tr>\n",
       "      <td>4</td>\n",
       "      <td>0.125150</td>\n",
       "      <td>0.195959</td>\n",
       "      <td>0.061570</td>\n",
       "      <td>00:45</td>\n",
       "    </tr>\n",
       "    <tr>\n",
       "      <td>5</td>\n",
       "      <td>0.089497</td>\n",
       "      <td>0.192652</td>\n",
       "      <td>0.055480</td>\n",
       "      <td>00:45</td>\n",
       "    </tr>\n",
       "  </tbody>\n",
       "</table>"
      ],
      "text/plain": [
       "<IPython.core.display.HTML object>"
      ]
     },
     "metadata": {},
     "output_type": "display_data"
    }
   ],
   "source": [
    "learn.fine_tune(6, freeze_epochs=3)"
   ]
  },
  {
   "cell_type": "code",
   "execution_count": 31,
   "id": "5865eccb",
   "metadata": {},
   "outputs": [
    {
     "data": {
      "text/html": [],
      "text/plain": [
       "<IPython.core.display.HTML object>"
      ]
     },
     "metadata": {},
     "output_type": "display_data"
    },
    {
     "name": "stdout",
     "output_type": "stream",
     "text": [
      "Persian TensorBase(0.7805)\n"
     ]
    }
   ],
   "source": [
    "input_img = Path(\"/home/miles/served_files/moof.jpg\") # path/\"images/beagle_186.jpg\"\n",
    "p, pn, cats = learn.predict(input_img)\n",
    "print(p, cats[pn])"
   ]
  },
  {
   "cell_type": "code",
   "execution_count": 48,
   "id": "1a17eac6",
   "metadata": {},
   "outputs": [
    {
     "name": "stdout",
     "output_type": "stream",
     "text": [
      "Overwriting pet_classification_service.py\n"
     ]
    }
   ],
   "source": [
    "%%writefile pet_classification_service.py\n",
    "\n",
    "from bentoml.frameworks.fastai import FastaiModelArtifact\n",
    "from bentoml.adapters import FileInput\n",
    "from fastcore.utils import tuplify, detuplify\n",
    "\n",
    "import bentoml\n",
    "import torchvision # not imported by default, to help with pickling\n",
    "# import datablock_utils\n",
    "\n",
    "# img conversion\n",
    "from fastai.vision.core import PILImage\n",
    "\n",
    "@bentoml.artifacts([FastaiModelArtifact('learner')])\n",
    "@bentoml.env(infer_pip_packages=True)\n",
    "class PetClassificationService(bentoml.BentoService):\n",
    "    @bentoml.api(input=FileInput(), batch=True)\n",
    "    def predict(self, files):\n",
    "        # TODO: learner.get_preds\n",
    "        results = [self.artifacts.learner.predict(PILImage.create(i)) for i in files]\n",
    "        return results"
   ]
  },
  {
   "cell_type": "code",
   "execution_count": 49,
   "id": "95896ed0",
   "metadata": {},
   "outputs": [
    {
     "name": "stdout",
     "output_type": "stream",
     "text": [
      "[2021-12-30 01:12:22,789] WARNING - BentoML by default does not include spacy and torchvision package when using FastaiModelArtifact. To make sure BentoML bundle those packages if they are required for your model, either import those packages in BentoService definition file or manually add them via `@env(pip_packages=['torchvision'])` when defining a BentoService\n",
      "[2021-12-30 01:12:24,781] INFO - BentoService bundle 'PetClassificationService:20211230011222_E1C7CD' saved to: /home/miles/bentoml/repository/PetClassificationService/20211230011222_E1C7CD\n"
     ]
    }
   ],
   "source": [
    "import sys\n",
    "import os\n",
    "sys.path.append(os.getcwd())\n",
    "\n",
    "import bentoml\n",
    "\n",
    "# # from fastcore.utils import remove_patches_path\n",
    "from pet_classification_service import PetClassificationService\n",
    "\n",
    "# learn.metrics = []\n",
    "\n",
    "svc = PetClassificationService()\n",
    "svc.pack('learner', learn)\n",
    "\n",
    "# Fastcore modify Pathlib module from python, need to remove the patch in order to save\n",
    "# with remove_patches_path():\n",
    "saved_path = svc.save()\n",
    "\n",
    "# bentoml serve PetClassification:latest     "
   ]
  },
  {
   "cell_type": "code",
   "execution_count": null,
   "id": "bce79c3f",
   "metadata": {},
   "outputs": [],
   "source": []
  }
 ],
 "metadata": {
  "kernelspec": {
   "display_name": "Python 3 (ipykernel)",
   "language": "python",
   "name": "python3"
  },
  "language_info": {
   "codemirror_mode": {
    "name": "ipython",
    "version": 3
   },
   "file_extension": ".py",
   "mimetype": "text/x-python",
   "name": "python",
   "nbconvert_exporter": "python",
   "pygments_lexer": "ipython3",
   "version": "3.8.2"
  }
 },
 "nbformat": 4,
 "nbformat_minor": 5
}
